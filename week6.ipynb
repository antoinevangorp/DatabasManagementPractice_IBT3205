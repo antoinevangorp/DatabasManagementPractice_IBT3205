{
  "nbformat": 4,
  "nbformat_minor": 0,
  "metadata": {
    "colab": {
      "provenance": [],
      "authorship_tag": "ABX9TyPwSxcSnvJipm70JV8zcJs4",
      "include_colab_link": true
    },
    "kernelspec": {
      "name": "python3",
      "display_name": "Python 3"
    },
    "language_info": {
      "name": "python"
    }
  },
  "cells": [
    {
      "cell_type": "markdown",
      "metadata": {
        "id": "view-in-github",
        "colab_type": "text"
      },
      "source": [
        "<a href=\"https://colab.research.google.com/github/antoinevangorp/DatabasManagementPractice_IBT3205/blob/main/week6.ipynb\" target=\"_parent\"><img src=\"https://colab.research.google.com/assets/colab-badge.svg\" alt=\"Open In Colab\"/></a>"
      ]
    },
    {
      "cell_type": "code",
      "source": [
        "# import sqlite3\n",
        "\n",
        "# # Connect to the SQLite database (or create a new one if it doesn't exist)\n",
        "# conn = sqlite3.connect('my_database.db')\n",
        "# cur = conn.cursor()\n",
        "\n",
        "# # Create the \"DEPARTEMENT\" table with constraints\n",
        "# cur.execute('''\n",
        "# CREATE TABLE \"DEPARTEMENT\"(\n",
        "#   dnumber integer NOT NULL,\n",
        "#   dname integer,\n",
        "#   mgrssn integer NOT NULL,\n",
        "#   CONSTRAINT \"DEPARTEMENT_pkey\" PRIMARY KEY(dnumber)\n",
        "# );\n",
        "# ''')\n",
        "\n",
        "# # Create the \"DEPARTMENT_LOCATIONS\" table with constraints\n",
        "# cur.execute('''\n",
        "# CREATE TABLE \"DEPARTMENT_LOCATIONS\"(\n",
        "#   dnumber integer NOT NULL,\n",
        "#   \"LOCATIONS_dlocation\" integer NOT NULL,\n",
        "#   FOREIGN KEY (dnumber) REFERENCES \"DEPARTEMENT\" (dnumber),\n",
        "#   FOREIGN KEY (\"LOCATIONS_dlocation\") REFERENCES \"LOCATIONS\" (dlocation)\n",
        "# );\n",
        "# ''')\n",
        "\n",
        "# # Create the \"DEPENDENT\" table with constraints\n",
        "# cur.execute('''\n",
        "# CREATE TABLE \"DEPENDENT\"(\n",
        "#   dependentname text NOT NULL,\n",
        "#   essn integer NOT NULL,\n",
        "#   sex char,\n",
        "#   bdate timestamp,\n",
        "#   relationship text,\n",
        "#   CONSTRAINT \"DEPENDENT_pkey\" PRIMARY KEY(dependentname),\n",
        "#   FOREIGN KEY (essn) REFERENCES \"EMPLOYEE\" (ssn)\n",
        "# );\n",
        "# ''')\n",
        "\n",
        "# # Create the \"EMPLOYEE\" table with constraints\n",
        "# cur.execute('''\n",
        "# CREATE TABLE \"EMPLOYEE\"(\n",
        "#   ssn integer NOT NULL,\n",
        "#   \"superssn (FK)\" integer,\n",
        "#   fname text,\n",
        "#   minit integer,\n",
        "#   lname text,\n",
        "#   address text,\n",
        "#   bdate timestamp,\n",
        "#   salary float,\n",
        "#   sex char(1),\n",
        "#   dno integer NOT NULL,\n",
        "#   CONSTRAINT \"EMPLOYEE_pkey\" PRIMARY KEY(ssn),\n",
        "#   CONSTRAINT \"EMPLOYEE_superssn (FK)_fkey\" FOREIGN KEY (\"superssn (FK)\") REFERENCES \"DEPARTEMENT\" (dnumber),\n",
        "#   CONSTRAINT ssn_fkey FOREIGN KEY (dno) REFERENCES \"EMPLOYEE\" (ssn)\n",
        "# );\n",
        "# ''')\n",
        "\n",
        "# # Create the \"EMPLOYEE_PROJECT\" table with constraints\n",
        "# cur.execute('''\n",
        "# CREATE TABLE \"EMPLOYEE_PROJECT\"(\n",
        "#   ssn integer NOT NULL,\n",
        "#   \"PROJECT_pnumber\" integer NOT NULL,\n",
        "#   hours integer,\n",
        "#   FOREIGN KEY (ssn) REFERENCES \"EMPLOYEE\" (ssn),\n",
        "#   FOREIGN KEY (\"PROJECT_pnumber\") REFERENCES \"PROJECT\" (pnumber)\n",
        "# );\n",
        "# ''')\n",
        "\n",
        "# # Create the \"LOCATIONS\" table with constraints\n",
        "# cur.execute('''\n",
        "# CREATE TABLE \"LOCATIONS\"(\n",
        "#   dlocation integer NOT NULL,\n",
        "#   CONSTRAINT \"LOCATIONS_pkey\" PRIMARY KEY(dlocation)\n",
        "# );\n",
        "# ''')\n",
        "\n",
        "# # Create the \"PROJECT\" table with constraints\n",
        "# cur.execute('''\n",
        "# CREATE TABLE \"PROJECT\"(\n",
        "#   pnumber integer NOT NULL,\n",
        "#   pname text,\n",
        "#   plocation text,\n",
        "#   dnum integer NOT NULL,\n",
        "#   CONSTRAINT \"PROJECT_pkey\" PRIMARY KEY(pnumber),\n",
        "#   FOREIGN KEY (dnum) REFERENCES \"DEPARTEMENT\" (dnumber)\n",
        "# );\n",
        "# ''')\n",
        "\n",
        "# # Commit the changes\n",
        "# conn.commit()\n",
        "\n",
        "# # Insert data into the tables (as shown in the previous response)\n",
        "# cur.execute('''\n",
        "# INSERT INTO \"DEPARTEMENT\" (dnumber, dname, mgrssn)\n",
        "# VALUES (1, 101, 123456789),\n",
        "#        (2, 102, 987654321);\n",
        "# ''')\n",
        "\n",
        "# cur.execute('''\n",
        "# INSERT INTO \"DEPARTMENT_LOCATIONS\" (dnumber, \"LOCATIONS_dlocation\")\n",
        "# VALUES (1, 1),\n",
        "#        (2, 2);\n",
        "# ''')\n",
        "\n",
        "# cur.execute('''\n",
        "# INSERT INTO \"DEPENDENT\" (dependentname, essn, sex, bdate, relationship)\n",
        "# VALUES ('John Doe', 123456789, 'M', '1990-01-15', 'Child'),\n",
        "#        ('Jane Doe', 987654321, 'F', '1992-05-20', 'Spouse');\n",
        "# ''')\n",
        "\n",
        "# cur.execute('''\n",
        "# INSERT INTO \"EMPLOYEE\" (ssn, \"superssn (FK)\", fname, minit, lname, address, bdate, salary, sex, dno)\n",
        "# VALUES (123456789, NULL, 'Alice',  'M', 'Smith', '123 Main St', '1980-03-10', 50000.00, 'F', 1),\n",
        "#        (987654321, 123456789, 'Bob',  'A', 'Johnson', '456 Oak St', '1975-12-05', 60000.00, 'M', 2);\n",
        "# ''')\n",
        "\n",
        "# cur.execute('''\n",
        "# INSERT INTO \"EMPLOYEE_PROJECT\" (ssn, \"PROJECT_pnumber\", hours)\n",
        "# VALUES (123456789, 101, 40),\n",
        "#        (987654321, 102, 35);\n",
        "# ''')\n",
        "\n",
        "# cur.execute('''\n",
        "# INSERT INTO \"LOCATIONS\" (dlocation)\n",
        "# VALUES (1),\n",
        "#        (2);\n",
        "# ''')\n",
        "\n",
        "# cur.execute('''\n",
        "# INSERT INTO \"PROJECT\" (pnumber, pname, plocation, dnum)\n",
        "# VALUES (101, 'Project A', 'Location X', 1),\n",
        "#        (102, 'Project B', 'Location Y', 2);\n",
        "# ''')\n",
        "\n",
        "# # Commit the data changes\n",
        "# conn.commit()\n",
        "\n",
        "# print(\"Contents of the 'DEPARTEMENT' table:\")\n",
        "# cur.execute(\"SELECT * FROM 'DEPARTEMENT'\")\n",
        "# print(cur.fetchall())\n",
        "\n",
        "# print(\"\\nContents of the 'DEPARTMENT_LOCATIONS' table:\")\n",
        "# cur.execute(\"SELECT * FROM 'DEPARTMENT_LOCATIONS'\")\n",
        "# print(cur.fetchall())\n",
        "\n",
        "# print(\"\\nContents of the 'DEPENDENT' table:\")\n",
        "# cur.execute(\"SELECT * FROM 'DEPENDENT'\")\n",
        "# print(cur.fetchall())\n",
        "\n",
        "# print(\"\\nContents of the 'EMPLOYEE' table:\")\n",
        "# cur.execute(\"SELECT * FROM 'EMPLOYEE'\")\n",
        "# print(cur.fetchall())\n",
        "\n",
        "# print(\"\\nContents of the 'EMPLOYEE_PROJECT' table:\")\n",
        "# cur.execute(\"SELECT * FROM 'EMPLOYEE_PROJECT'\")\n",
        "# print(cur.fetchall())\n",
        "\n",
        "# print(\"\\nContents of the 'LOCATIONS' table:\")\n",
        "# cur.execute(\"SELECT * FROM 'LOCATIONS'\")\n",
        "# print(cur.fetchall())\n",
        "\n",
        "# print(\"\\nContents of the 'PROJECT' table:\")\n",
        "# cur.execute(\"SELECT * FROM 'PROJECT'\")\n",
        "# print(cur.fetchall())\n",
        "\n",
        "# # Close the cursor and connection\n",
        "# cur.close()\n",
        "# conn.close()\n"
      ],
      "metadata": {
        "id": "2FkyxH_E5vNy"
      },
      "execution_count": 8,
      "outputs": []
    },
    {
      "cell_type": "code",
      "execution_count": 9,
      "metadata": {
        "id": "56yFjnZGAnS1",
        "colab": {
          "base_uri": "https://localhost:8080/"
        },
        "outputId": "3f3dfe5c-10a1-4458-f5c3-f608e1224502"
      },
      "outputs": [
        {
          "output_type": "stream",
          "name": "stdout",
          "text": [
            "Opened database successfully\n"
          ]
        }
      ],
      "source": [
        "# Importing the sqlite3 library\n",
        "import sqlite3\n",
        "\n",
        "# Step 1: Connect to SQLite Database\n",
        "conn = sqlite3.connect('company_database.db')\n",
        "cur = conn.cursor()\n",
        "print(\"Opened database successfully\")\n"
      ]
    },
    {
      "cell_type": "code",
      "source": [
        "# Create the \"DEPARTEMENT\" table with constraints\n",
        "cur.execute('''\n",
        "CREATE TABLE \"DEPARTEMENT\"(\n",
        "  dnumber integer NOT NULL,\n",
        "  dname integer,\n",
        "  mgrssn integer NOT NULL,\n",
        "  CONSTRAINT \"DEPARTEMENT_pkey\" PRIMARY KEY(dnumber)\n",
        ");\n",
        "''')"
      ],
      "metadata": {
        "colab": {
          "base_uri": "https://localhost:8080/"
        },
        "id": "I--s0hAMtwk_",
        "outputId": "0d303682-f9f8-4a18-8116-40157f24dbbf"
      },
      "execution_count": 10,
      "outputs": [
        {
          "output_type": "execute_result",
          "data": {
            "text/plain": [
              "<sqlite3.Cursor at 0x7caa58298940>"
            ]
          },
          "metadata": {},
          "execution_count": 10
        }
      ]
    },
    {
      "cell_type": "code",
      "source": [
        "# Create the \"DEPARTMENT_LOCATIONS\" table with constraints\n",
        "cur.execute('''\n",
        "CREATE TABLE \"DEPARTMENT_LOCATIONS\"(\n",
        "  dnumber integer NOT NULL,\n",
        "  \"LOCATIONS_dlocation\" integer NOT NULL,\n",
        "  FOREIGN KEY (dnumber) REFERENCES \"DEPARTEMENT\" (dnumber),\n",
        "  FOREIGN KEY (\"LOCATIONS_dlocation\") REFERENCES \"LOCATIONS\" (dlocation)\n",
        ");\n",
        "''')"
      ],
      "metadata": {
        "colab": {
          "base_uri": "https://localhost:8080/"
        },
        "outputId": "f6532870-761d-4309-8ed0-c1d71ca51b3d",
        "id": "1TtYqYoGgGRv"
      },
      "execution_count": 11,
      "outputs": [
        {
          "output_type": "execute_result",
          "data": {
            "text/plain": [
              "<sqlite3.Cursor at 0x7caa58298940>"
            ]
          },
          "metadata": {},
          "execution_count": 11
        }
      ]
    },
    {
      "cell_type": "code",
      "source": [
        "# Create the \"DEPENDENT\" table with constraints\n",
        "cur.execute('''\n",
        "CREATE TABLE \"DEPENDENT\"(\n",
        "  dependentname text NOT NULL,\n",
        "  essn integer NOT NULL,\n",
        "  sex char,\n",
        "  bdate timestamp,\n",
        "  relationship text,\n",
        "  CONSTRAINT \"DEPENDENT_pkey\" PRIMARY KEY(dependentname),\n",
        "  FOREIGN KEY (essn) REFERENCES \"EMPLOYEE\" (ssn)\n",
        ");\n",
        "''')"
      ],
      "metadata": {
        "colab": {
          "base_uri": "https://localhost:8080/"
        },
        "outputId": "bd6eea62-2fcb-4a42-dce7-e52b1874495e",
        "id": "6vRhWbNQgGpk"
      },
      "execution_count": 12,
      "outputs": [
        {
          "output_type": "execute_result",
          "data": {
            "text/plain": [
              "<sqlite3.Cursor at 0x7caa58298940>"
            ]
          },
          "metadata": {},
          "execution_count": 12
        }
      ]
    },
    {
      "cell_type": "code",
      "source": [
        "# Create the \"EMPLOYEE\" table with constraints\n",
        "cur.execute('''\n",
        "CREATE TABLE \"EMPLOYEE\"(\n",
        "  ssn integer NOT NULL,\n",
        "  \"superssn (FK)\" integer,\n",
        "  fname text,\n",
        "  minit integer,\n",
        "  lname text,\n",
        "  address text,\n",
        "  bdate timestamp,\n",
        "  salary float,\n",
        "  sex char(1),\n",
        "  dno integer NOT NULL,\n",
        "  CONSTRAINT \"EMPLOYEE_pkey\" PRIMARY KEY(ssn),\n",
        "  CONSTRAINT \"EMPLOYEE_superssn (FK)_fkey\" FOREIGN KEY (\"superssn (FK)\") REFERENCES \"DEPARTEMENT\" (dnumber),\n",
        "  CONSTRAINT ssn_fkey FOREIGN KEY (dno) REFERENCES \"EMPLOYEE\" (ssn)\n",
        ");\n",
        "''')"
      ],
      "metadata": {
        "colab": {
          "base_uri": "https://localhost:8080/"
        },
        "outputId": "ef4e1710-e077-4a08-de8e-df788472ce95",
        "id": "WJf5g6g2gG0V"
      },
      "execution_count": 13,
      "outputs": [
        {
          "output_type": "execute_result",
          "data": {
            "text/plain": [
              "<sqlite3.Cursor at 0x7caa58298940>"
            ]
          },
          "metadata": {},
          "execution_count": 13
        }
      ]
    },
    {
      "cell_type": "code",
      "source": [
        "# Create the \"EMPLOYEE_PROJECT\" table with constraints\n",
        "cur.execute('''\n",
        "CREATE TABLE \"EMPLOYEE_PROJECT\"(\n",
        "  ssn integer NOT NULL,\n",
        "  \"PROJECT_pnumber\" integer NOT NULL,\n",
        "  hours integer,\n",
        "  FOREIGN KEY (ssn) REFERENCES \"EMPLOYEE\" (ssn),\n",
        "  FOREIGN KEY (\"PROJECT_pnumber\") REFERENCES \"PROJECT\" (pnumber)\n",
        ");\n",
        "''')"
      ],
      "metadata": {
        "colab": {
          "base_uri": "https://localhost:8080/"
        },
        "outputId": "c7abbd28-9f40-49fb-cb0b-5acd87172bf5",
        "id": "tbU5WXIEgG5J"
      },
      "execution_count": 14,
      "outputs": [
        {
          "output_type": "execute_result",
          "data": {
            "text/plain": [
              "<sqlite3.Cursor at 0x7caa58298940>"
            ]
          },
          "metadata": {},
          "execution_count": 14
        }
      ]
    },
    {
      "cell_type": "code",
      "source": [
        "# Create the \"LOCATIONS\" table with constraints\n",
        "cur.execute('''\n",
        "CREATE TABLE \"LOCATIONS\"(\n",
        "  dlocation integer NOT NULL,\n",
        "  CONSTRAINT \"LOCATIONS_pkey\" PRIMARY KEY(dlocation)\n",
        ");\n",
        "''')"
      ],
      "metadata": {
        "colab": {
          "base_uri": "https://localhost:8080/"
        },
        "outputId": "f3c6d93b-140f-431e-85e2-dd128f0abcd7",
        "id": "NT_rX6UWgG8W"
      },
      "execution_count": 15,
      "outputs": [
        {
          "output_type": "execute_result",
          "data": {
            "text/plain": [
              "<sqlite3.Cursor at 0x7caa58298940>"
            ]
          },
          "metadata": {},
          "execution_count": 15
        }
      ]
    },
    {
      "cell_type": "code",
      "source": [
        "# Create the \"PROJECT\" table with constraints\n",
        "cur.execute('''\n",
        "CREATE TABLE \"PROJECT\"(\n",
        "  pnumber integer NOT NULL,\n",
        "  pname text,\n",
        "  plocation text,\n",
        "  dnum integer NOT NULL,\n",
        "  CONSTRAINT \"PROJECT_pkey\" PRIMARY KEY(pnumber),\n",
        "  FOREIGN KEY (dnum) REFERENCES \"DEPARTEMENT\" (dnumber)\n",
        ");\n",
        "''')"
      ],
      "metadata": {
        "colab": {
          "base_uri": "https://localhost:8080/"
        },
        "outputId": "6c7c0a8c-f219-4ddb-95cb-d8fc380b7821",
        "id": "e8U5hpzFgG_R"
      },
      "execution_count": 16,
      "outputs": [
        {
          "output_type": "execute_result",
          "data": {
            "text/plain": [
              "<sqlite3.Cursor at 0x7caa58298940>"
            ]
          },
          "metadata": {},
          "execution_count": 16
        }
      ]
    },
    {
      "cell_type": "code",
      "source": [
        "# Commit the changes\n",
        "conn.commit()\n",
        "print(\"commit done\")"
      ],
      "metadata": {
        "colab": {
          "base_uri": "https://localhost:8080/"
        },
        "id": "NnPArtVwgqCy",
        "outputId": "57ef4d5c-c417-4d7b-de6d-35d5c9a2be70"
      },
      "execution_count": 17,
      "outputs": [
        {
          "output_type": "stream",
          "name": "stdout",
          "text": [
            "commit done\n"
          ]
        }
      ]
    },
    {
      "cell_type": "code",
      "source": [
        "# Insert data into the tables (as shown in the previous response)\n",
        "cur.execute('''\n",
        "INSERT INTO \"DEPARTEMENT\" (dnumber, dname, mgrssn)\n",
        "VALUES (1, 101, 123456789),\n",
        "       (2, 102, 987654321);\n",
        "''')\n",
        "\n",
        "cur.execute('''\n",
        "INSERT INTO \"DEPARTMENT_LOCATIONS\" (dnumber, \"LOCATIONS_dlocation\")\n",
        "VALUES (1, 1),\n",
        "       (2, 2);\n",
        "''')\n",
        "\n",
        "cur.execute('''\n",
        "INSERT INTO \"DEPENDENT\" (dependentname, essn, sex, bdate, relationship)\n",
        "VALUES ('John Doe', 123456789, 'M', '1990-01-15', 'Child'),\n",
        "       ('Jane Doe', 987654321, 'F', '1992-05-20', 'Spouse');\n",
        "''')\n",
        "\n",
        "cur.execute('''\n",
        "INSERT INTO \"EMPLOYEE\" (ssn, \"superssn (FK)\", fname, minit, lname, address, bdate, salary, sex, dno)\n",
        "VALUES (123456789, NULL, 'Alice',  'M', 'Smith', '123 Main St', '1980-03-10', 50000.00, 'F', 1),\n",
        "       (987654321, 123456789, 'Bob',  'A', 'Johnson', '456 Oak St', '1975-12-05', 60000.00, 'M', 2);\n",
        "''')\n",
        "\n",
        "cur.execute('''\n",
        "INSERT INTO \"EMPLOYEE_PROJECT\" (ssn, \"PROJECT_pnumber\", hours)\n",
        "VALUES (123456789, 101, 40),\n",
        "       (987654321, 102, 35);\n",
        "''')\n",
        "\n",
        "cur.execute('''\n",
        "INSERT INTO \"LOCATIONS\" (dlocation)\n",
        "VALUES (1),\n",
        "       (2);\n",
        "''')\n",
        "\n",
        "cur.execute('''\n",
        "INSERT INTO \"PROJECT\" (pnumber, pname, plocation, dnum)\n",
        "VALUES (101, 'Project A', 'Location X', 1),\n",
        "       (102, 'Project B', 'Location Y', 2);\n",
        "''')"
      ],
      "metadata": {
        "colab": {
          "base_uri": "https://localhost:8080/"
        },
        "id": "xJUGuBpsqnBS",
        "outputId": "16ea9fab-6feb-461d-adc1-b69e663003c8"
      },
      "execution_count": 18,
      "outputs": [
        {
          "output_type": "execute_result",
          "data": {
            "text/plain": [
              "<sqlite3.Cursor at 0x7caa58298940>"
            ]
          },
          "metadata": {},
          "execution_count": 18
        }
      ]
    },
    {
      "cell_type": "code",
      "source": [
        "# Commit the changes\n",
        "conn.commit()\n",
        "print(\"commit done\")"
      ],
      "metadata": {
        "colab": {
          "base_uri": "https://localhost:8080/"
        },
        "id": "-zHNLB6BiD5M",
        "outputId": "ceaae34a-67cf-4040-c3d1-c1bb90b840cb"
      },
      "execution_count": 19,
      "outputs": [
        {
          "output_type": "stream",
          "name": "stdout",
          "text": [
            "commit done\n"
          ]
        }
      ]
    },
    {
      "cell_type": "code",
      "source": [
        "print(\"Contents of the 'DEPARTEMENT' table:\")\n",
        "cur.execute(\"SELECT * FROM 'DEPARTEMENT'\")\n",
        "print(cur.fetchall())\n",
        "\n",
        "print(\"\\nContents of the 'DEPARTMENT_LOCATIONS' table:\")\n",
        "cur.execute(\"SELECT * FROM 'DEPARTMENT_LOCATIONS'\")\n",
        "print(cur.fetchall())\n",
        "\n",
        "print(\"\\nContents of the 'DEPENDENT' table:\")\n",
        "cur.execute(\"SELECT * FROM 'DEPENDENT'\")\n",
        "print(cur.fetchall())\n",
        "\n",
        "print(\"\\nContents of the 'EMPLOYEE' table:\")\n",
        "cur.execute(\"SELECT * FROM 'EMPLOYEE'\")\n",
        "print(cur.fetchall())\n",
        "\n",
        "print(\"\\nContents of the 'EMPLOYEE_PROJECT' table:\")\n",
        "cur.execute(\"SELECT * FROM 'EMPLOYEE_PROJECT'\")\n",
        "print(cur.fetchall())\n",
        "\n",
        "print(\"\\nContents of the 'LOCATIONS' table:\")\n",
        "cur.execute(\"SELECT * FROM 'LOCATIONS'\")\n",
        "print(cur.fetchall())\n",
        "\n",
        "print(\"\\nContents of the 'PROJECT' table:\")\n",
        "cur.execute(\"SELECT * FROM 'PROJECT'\")\n",
        "print(cur.fetchall())\n",
        "\n",
        "# Close the cursor and connection\n",
        "cur.close()\n",
        "conn.close()"
      ],
      "metadata": {
        "colab": {
          "base_uri": "https://localhost:8080/"
        },
        "id": "Mt5YvORlyMJb",
        "outputId": "b3db8b1a-19a0-4608-d98b-2c1a915d7abd"
      },
      "execution_count": 20,
      "outputs": [
        {
          "output_type": "stream",
          "name": "stdout",
          "text": [
            "Contents of the 'DEPARTEMENT' table:\n",
            "[(1, 101, 123456789), (2, 102, 987654321)]\n",
            "\n",
            "Contents of the 'DEPARTMENT_LOCATIONS' table:\n",
            "[(1, 1), (2, 2)]\n",
            "\n",
            "Contents of the 'DEPENDENT' table:\n",
            "[('John Doe', 123456789, 'M', '1990-01-15', 'Child'), ('Jane Doe', 987654321, 'F', '1992-05-20', 'Spouse')]\n",
            "\n",
            "Contents of the 'EMPLOYEE' table:\n",
            "[(123456789, None, 'Alice', 'M', 'Smith', '123 Main St', '1980-03-10', 50000.0, 'F', 1), (987654321, 123456789, 'Bob', 'A', 'Johnson', '456 Oak St', '1975-12-05', 60000.0, 'M', 2)]\n",
            "\n",
            "Contents of the 'EMPLOYEE_PROJECT' table:\n",
            "[(123456789, 101, 40), (987654321, 102, 35)]\n",
            "\n",
            "Contents of the 'LOCATIONS' table:\n",
            "[(1,), (2,)]\n",
            "\n",
            "Contents of the 'PROJECT' table:\n",
            "[(101, 'Project A', 'Location X', 1), (102, 'Project B', 'Location Y', 2)]\n"
          ]
        }
      ]
    }
  ]
}