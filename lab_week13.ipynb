{
  "nbformat": 4,
  "nbformat_minor": 0,
  "metadata": {
    "colab": {
      "provenance": [],
      "authorship_tag": "ABX9TyNUrgP8gXh+b7EzeU1XgeWo",
      "include_colab_link": true
    },
    "kernelspec": {
      "name": "python3",
      "display_name": "Python 3"
    },
    "language_info": {
      "name": "python"
    }
  },
  "cells": [
    {
      "cell_type": "markdown",
      "metadata": {
        "id": "view-in-github",
        "colab_type": "text"
      },
      "source": [
        "<a href=\"https://colab.research.google.com/github/antoinevangorp/DatabasManagementPractice_IBT3205/blob/main/lab_week13.ipynb\" target=\"_parent\"><img src=\"https://colab.research.google.com/assets/colab-badge.svg\" alt=\"Open In Colab\"/></a>"
      ]
    },
    {
      "cell_type": "code",
      "execution_count": 19,
      "metadata": {
        "id": "yf6MVVnSDFul",
        "colab": {
          "base_uri": "https://localhost:8080/"
        },
        "outputId": "b46fd170-7dd9-4c3e-9ffb-ee380f23a4d7"
      },
      "outputs": [
        {
          "output_type": "stream",
          "name": "stdout",
          "text": [
            "Query plan with index: [(1, 'Alice', 'HR', 70000), (3, 'Charlie', 'HR', 75000)]\n",
            "Query plan without index: [(1, 'Alice', 'HR', 70000), (3, 'Charlie', 'HR', 75000)]\n"
          ]
        }
      ],
      "source": [
        "### Detailed Example: Efficient Indexing\n",
        "\n",
        "import sqlite3\n",
        "\n",
        "# Connect to SQLite database\n",
        "\n",
        "conn = sqlite3.connect('example.db')\n",
        "c = conn.cursor()\n",
        "\n",
        "# Create a sample table\n",
        "c.execute('''CREATE TABLE IF NOT EXISTS employees (id INTEGER PRIMARY KEY, name TEXT, department TEXT, salary INTEGER)''')\n",
        "\n",
        "# Example 1: Efficient Indexing\n",
        "#\n",
        "# Description: This example demonstrates how to create an index on the 'department' column.\n",
        "# The index will improve the performance of queries filtering by department.\n",
        "\n",
        "# Adding some sample data\n",
        "sample_data = [(1, 'Alice', 'HR', 70000), (2, 'Bob', 'Engineering', 80000), (3, 'Charlie', 'HR', 75000)]\n",
        "c.executemany('INSERT INTO employees VALUES (?,?,?,?)', sample_data)\n",
        "\n",
        "# Creating an index\n",
        "c.execute( 'CREATE INDEX idx_department ON employees (department)')\n",
        "\n",
        "# Comment: Indexes can significantly improve the performance of queries that filter or sort based on the indexed column. # However, they can also slow down data insertion and updates. Therefore, use them judiciously.\n",
        "# Querying with and without the index\n",
        "c.execute('SELECT * FROM employees WHERE department = \"HR\"')\n",
        "print(\"Query plan with index:\", c.fetchall())\n",
        "# Drop the index\n",
        "c.execute('DROP INDEX idx_department')\n",
        "\n",
        "c.execute('SELECT * FROM employees WHERE department = \"HR\"')\n",
        "print(\"Query plan without index:\", c.fetchall())\n",
        "\n",
        "# Cleanup\n",
        "\n",
        "conn.commit()\n",
        "conn.close()\n"
      ]
    },
    {
      "cell_type": "code",
      "source": [
        "import sqlite3\n",
        "\n",
        "# Connect to SQLite database\n",
        "conn = sqlite3.connect('example.db')\n",
        "c = conn.cursor()\n",
        "\n",
        "# Create a sample table\n",
        "c.execute('''CREATE TABLE IF NOT EXISTS products (id INTEGER PRIMARY KEY, name TEXT, category TEXT, price INTEGER)''')\n",
        "\n",
        "# Adding some sample data\n",
        "sample_data = [(1, 'Laptop', 'Electronics', 1200), (2, 'Chair', 'Furniture', 150), (3, 'Smartphone', 'Electronics', 800)]\n",
        "c.executemany('INSERT INTO products VALUES (?,?,?,?)', sample_data)\n",
        "\n",
        "# Query optimization example\n",
        "#\n",
        "# Description: This example demonstrates how to write an optimized query by selecting only the necessary columns # and using efficient filtering.\n",
        "# Efficient query: selecting specific columns and filtering\n",
        "\n",
        "c.execute('SELECT name, price FROM products WHERE category = \"Electronics\"')\n",
        "print(\"Efficient query results:\", c.fetchall())\n",
        "# Cleanup\n",
        "conn.commit()\n",
        "conn.close()"
      ],
      "metadata": {
        "colab": {
          "base_uri": "https://localhost:8080/"
        },
        "id": "gfJ5pnCkGmxK",
        "outputId": "b37dd8de-4e93-4963-8cc0-d19570ac80cd"
      },
      "execution_count": 20,
      "outputs": [
        {
          "output_type": "stream",
          "name": "stdout",
          "text": [
            "Efficient query results: [('Laptop', 1200), ('Smartphone', 800)]\n"
          ]
        }
      ]
    },
    {
      "cell_type": "code",
      "source": [
        "import sqlite3\n",
        "# Connect to SQLite database\n",
        "conn = sqlite3.connect('example.db')\n",
        "c = conn.cursor()\n",
        "\n",
        "# Create a sample table\n",
        "c.execute('''CREATE TABLE IF NOT EXISTS orders (id INTEGER PRIMARY KEY, product_id INTEGER, quantity INTEGER)''')\n",
        "\n",
        "# Transaction optimization example\n",
        "# Description: This example demonstrates the use of transactions to optimize bulk data insertions.\n",
        "\n",
        "# Start a transaction\n",
        "conn.execute( 'BEGIN TRANSACTION')\n",
        "\n",
        "# Bulk insert data\n",
        "bulk_data = [(i, i % 5 + 1, i + 2) for i in range(1, 1001)]\n",
        "c.executemany('INSERT INTO orders VALUES (?,?,?)', bulk_data)\n",
        "\n",
        "# Commit the transaction\n",
        "conn.commit()\n",
        "\n",
        "# Query to verify data insertion\n",
        "c.execute('SELECT COUNT(*) FROM orders')\n",
        "print(\"Number of records inserted:\", c. fetchone()[0])\n",
        "\n",
        "# Cleanup\n",
        "conn.close()"
      ],
      "metadata": {
        "colab": {
          "base_uri": "https://localhost:8080/"
        },
        "id": "e50jIZZmNjId",
        "outputId": "99c04cb3-c6e7-4763-b853-33a4f1ef3855"
      },
      "execution_count": 21,
      "outputs": [
        {
          "output_type": "stream",
          "name": "stdout",
          "text": [
            "Number of records inserted: 1000\n"
          ]
        }
      ]
    },
    {
      "cell_type": "code",
      "source": [
        "import sqlite3\n",
        "\n",
        "# Connect to SQLite database\n",
        "\n",
        "conn = sqlite3.connect('example.db')\n",
        "\n",
        "c = conn.cursor()\n",
        "# Create sample tables\n",
        "\n",
        "c.execute('''CREATE TABLE IF NOT EXISTS students (id INTEGER PRIMARY KEY, name TEXT, class_id INTEGER)''')\n",
        "c.execute('''CREATE TABLE IF NOT EXISTS classes (id INTEGER PRIMARY KEY, class_name TEXT)''')\n",
        "# Adding some sample data\n",
        "students_data = [(1, 'John', 1), (2, 'Emma', 2), (3, 'Harry', 1)]\n",
        "classes_data = [(1, 'Math'), (2, 'Science')]\n",
        "c.executemany('INSERT INTO students VALUES (?,?,?)', students_data)\n",
        "c.executemany('INSERT INTO classes VALUES (?,?)', classes_data)\n",
        "# Efficient Joins example\n",
        "#\n",
        "\n",
        "# Description: This example demonstrates how to perform an efficient join between two tables. 20\n",
        "#Efficient join query\n",
        "c.execute('''SELECT students.name, classes.class_name\n",
        "              FROM students\n",
        "              JOIN classes ON students.class_id = classes. id''')\n",
        "print(\"Join results:\", c.fetchall())\n",
        "\n",
        "# Cleanup\n",
        "conn.commit()\n",
        "conn.close()"
      ],
      "metadata": {
        "colab": {
          "base_uri": "https://localhost:8080/"
        },
        "id": "T05WyBsWK_Oj",
        "outputId": "1ef4be5e-afc1-4d27-ae3c-76f2a623b14a"
      },
      "execution_count": 22,
      "outputs": [
        {
          "output_type": "stream",
          "name": "stdout",
          "text": [
            "Join results: [('John', 'Math'), ('Emma', 'Science'), ('Harry', 'Math')]\n"
          ]
        }
      ]
    },
    {
      "cell_type": "code",
      "source": [
        "import sqlite3\n",
        "\n",
        "# Connect to SQLite database\n",
        "conn = sqlite3.connect('example.db')\n",
        "c = conn.cursor()\n",
        "\n",
        "# Advanced PRAGMA Optimization Example\n",
        "#\n",
        "# Description: This example demonstrates the advanced use of PRAGMA statements\n",
        "# for various database optimizations including write-ahead logging, foreign key enforcement, # and query performance improvement.\n",
        "\n",
        "# 1, Setting the journal mode to WAL (Write-Ahead Logging)\n",
        "# WAL can improve the performance of read operations while write operations are happening.\n",
        "c.execute('PRAGMA journal_mode=WAL')\n",
        "journal_mode= c.fetchone()[0]\n",
        "print (\"Journal mode set to:\", journal_mode)\n",
        "\n",
        "# 2. Enabling foreign key constraints\n",
        "# Ensures referential integrity in the database,\n",
        "c.execute('PRAGMA foreign_keys=ON')\n",
        "c.execute('PRAGMA foreign_keys')\n",
        "fk_status = c.fetchone()[0]\n",
        "print (\"Foreign keys status:\", \"Enabled\" if fk_status else \"Disabled\")\n",
        "\n",
        "# 3. Setting synchronous mode to NORMAL\n",
        "# This reduces the number of disk writes, speeding up transactions at the risk of some data loss in case of a crash,\n",
        "c.execute('PRAGMA synchronous=NORMAL')\n",
        "c.execute('PRAGMA synchronous')\n",
        "sync_mode = c.fetchone()[0]\n",
        "print (\"Synchronous mode set to:\", sync_mode)\n",
        "\n",
        "# 4. Adjusting cache size\n",
        "# Increasing the cache size can improve the database read performance by reducing disk 1/0,\n",
        "c.execute('PRAGMA cache_size=10000') # Setting cache size to 10000 pages\n",
        "c.execute('PRAGMA cache_size')\n",
        "cache_size = c.fetchone()[0]\n",
        "print (\"Cache size set to:\", cache_size, \"pages\")\n",
        "\n",
        "# Useful for monitoring the database size, which can be a factor in performance.\n",
        "# 5, Querying the database file size.\n",
        "c.execute( 'PRAGMA page_size')\n",
        "page_size = c.fetchone()[0]\n",
        "c.execute('PRAGMA page_count')\n",
        "page_count = c.fetchone()[0]\n",
        "db_size = page_size * page_count\n",
        "print (\"Database size:\", db_size, \"bytes\")\n",
        "# Cleanup\n",
        "conn.close()"
      ],
      "metadata": {
        "colab": {
          "base_uri": "https://localhost:8080/"
        },
        "id": "ASrrQ_SrOFzq",
        "outputId": "c77b7e26-235d-470d-843a-d8aa9d5decf3"
      },
      "execution_count": 27,
      "outputs": [
        {
          "output_type": "stream",
          "name": "stdout",
          "text": [
            "Journal mode set to: wal\n",
            "Foreign keys status: Enabled\n",
            "Synchronous mode set to: 1\n",
            "Cache size set to: 10000 pages\n",
            "Database size: 4096 bytes\n"
          ]
        }
      ]
    }
  ]
}