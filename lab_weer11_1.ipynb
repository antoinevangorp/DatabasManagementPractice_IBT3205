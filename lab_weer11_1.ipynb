{
  "nbformat": 4,
  "nbformat_minor": 0,
  "metadata": {
    "colab": {
      "provenance": [],
      "authorship_tag": "ABX9TyNycRzYR81I4BQwoYU9CODW",
      "include_colab_link": true
    },
    "kernelspec": {
      "name": "python3",
      "display_name": "Python 3"
    },
    "language_info": {
      "name": "python"
    }
  },
  "cells": [
    {
      "cell_type": "markdown",
      "metadata": {
        "id": "view-in-github",
        "colab_type": "text"
      },
      "source": [
        "<a href=\"https://colab.research.google.com/github/antoinevangorp/DatabasManagementPractice_IBT3205/blob/main/lab_weer11_1.ipynb\" target=\"_parent\"><img src=\"https://colab.research.google.com/assets/colab-badge.svg\" alt=\"Open In Colab\"/></a>"
      ]
    },
    {
      "cell_type": "code",
      "source": [
        "%%writefile employee.py\n",
        "class Employee:\n",
        "    \"\"\"A sample Employee class\"\"\"\n",
        "\n",
        "    def __init__(self, first, last, pay):\n",
        "        self.first = first\n",
        "        self.last = last\n",
        "        self.pay = pay\n",
        "\n",
        "    @property\n",
        "    def email(self):\n",
        "        return '{}.{}@email.com'.format(self.first, self.last)\n",
        "\n",
        "    @property\n",
        "    def fullname(self):\n",
        "        return '{} {}'.format(self.first, self.last)\n",
        "\n",
        "    def __repr__(self):\n",
        "        return \"Employee('{}', '{}', {})\".format(self.first, self.last, self.pay)"
      ],
      "metadata": {
        "id": "dtVnAIJtLFq4",
        "colab": {
          "base_uri": "https://localhost:8080/"
        },
        "outputId": "2c664166-001e-4fc2-c01f-b3e1623591d3"
      },
      "execution_count": 8,
      "outputs": [
        {
          "output_type": "stream",
          "name": "stdout",
          "text": [
            "Writing employee.py\n"
          ]
        }
      ]
    },
    {
      "cell_type": "code",
      "execution_count": 9,
      "metadata": {
        "colab": {
          "base_uri": "https://localhost:8080/"
        },
        "id": "kEZ7PfpPBPDI",
        "outputId": "db2bbc6b-85db-4a1b-cf80-d73b8f4de780"
      },
      "outputs": [
        {
          "output_type": "stream",
          "name": "stdout",
          "text": [
            "[('John', 'Doe', 80000), ('Jane', 'Doe', 90000)]\n",
            "[('John', 'Doe', 80000), ('Jane', 'Doe', 90000)]\n",
            "[('Jane', 'Doe', 95000)]\n",
            "[('Jane', 'Doe', 95000), ('Jane', 'Lee', 190000), ('Yuna', 'Kim', 190000)]\n",
            "[]\n"
          ]
        }
      ],
      "source": [
        "import sqlite3\n",
        "from employee import Employee\n",
        "conn = sqlite3.connect(':memory:')\n",
        "c = conn.cursor()\n",
        "\n",
        "c.execute(\"\"\"CREATE TABLE employees (\n",
        "              first text,\n",
        "              last text, pay integer\n",
        "              )\"\"\")\n",
        "\n",
        "def insert_emp(emp):\n",
        "  with conn:\n",
        "    c.execute(\"INSERT INTO employees VALUES (:first, :last, :pay)\", {'first': emp.first, 'last': emp.last, 'pay': emp.pay})\n",
        "\n",
        "def get_emps_by_name(lastname):\n",
        "  c.execute(\"SELECT * FROM employees WHERE last= :last\", {'last': lastname})\n",
        "  return c.fetchall()\n",
        "\n",
        "def get_all_emps():\n",
        "  c.execute(\"SELECT * FROM employees\")\n",
        "  return c.fetchall()\n",
        "\n",
        "def delete_all_emps():\n",
        "  c.execute(\"DELETE FROM employees\")\n",
        "  return c.fetchall()\n",
        "\n",
        "def update_pay(emp, pay):\n",
        "  with conn:\n",
        "    c.execute(\"\"\"UPDATE employees SET pay = :pay\n",
        "                 WHERE first = :first AND last = :last \"\"\", {'first': emp.first, 'last': emp.last, 'pay': pay})\n",
        "def remove_emp(emp):\n",
        "  with conn:\n",
        "    c.execute(\"DELETE FROM employees WHERE first = :first AND last = :last\", {'first': emp.first, 'last': emp.last})\n",
        "\n",
        "\n",
        "\n",
        "emp_1 = Employee('John', 'Doe', 80000)\n",
        "emp_2 = Employee('Jane', 'Doe', 90000)\n",
        "emp_3 = Employee('Jane', 'Lee', 190000)\n",
        "emp_4 = Employee('Yuna', 'Kim', 190000)\n",
        "\n",
        "insert_emp(emp_1)\n",
        "insert_emp(emp_2)\n",
        "insert_emp(emp_3)\n",
        "insert_emp(emp_4)\n",
        "\n",
        "emps = get_emps_by_name('Doe')\n",
        "print(emps)\n",
        "emps1 = get_emps_by_name('Doe')\n",
        "print(emps1)\n",
        "\n",
        "update_pay(emp_2, 95000)\n",
        "remove_emp(emp_1)\n",
        "\n",
        "emps = get_emps_by_name('Doe')\n",
        "print(emps)\n",
        "\n",
        "all_emps = get_all_emps()\n",
        "print(all_emps)\n",
        "\n",
        "delete_all_emps()\n",
        "all_emps = get_all_emps()\n",
        "print(all_emps)\n",
        "\n",
        "conn.close()"
      ]
    }
  ]
}