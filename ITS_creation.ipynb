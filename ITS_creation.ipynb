{
  "nbformat": 4,
  "nbformat_minor": 0,
  "metadata": {
    "colab": {
      "provenance": [],
      "authorship_tag": "ABX9TyMbHh0PUCPe8qSsY7d6yTTF",
      "include_colab_link": true
    },
    "kernelspec": {
      "name": "python3",
      "display_name": "Python 3"
    },
    "language_info": {
      "name": "python"
    }
  },
  "cells": [
    {
      "cell_type": "markdown",
      "metadata": {
        "id": "view-in-github",
        "colab_type": "text"
      },
      "source": [
        "<a href=\"https://colab.research.google.com/github/antoinevangorp/DatabasManagementPractice_IBT3205/blob/main/ITS_creation.ipynb\" target=\"_parent\"><img src=\"https://colab.research.google.com/assets/colab-badge.svg\" alt=\"Open In Colab\"/></a>"
      ]
    },
    {
      "cell_type": "markdown",
      "source": [
        "# MidTherm"
      ],
      "metadata": {
        "id": "swWUkTUzkD6e"
      }
    },
    {
      "cell_type": "markdown",
      "source": [
        "This Python script is used to create and initialize a SQLite database named 'ITS.db'. It defines the structure of multiple tables related to an Information Technology Services (ITS) database schema and inserts sample data into those tables."
      ],
      "metadata": {
        "id": "cUUoH1BPj90G"
      }
    },
    {
      "cell_type": "markdown",
      "source": [
        "### Database Connection"
      ],
      "metadata": {
        "id": "1Q0QUQ-KhSQC"
      }
    },
    {
      "cell_type": "code",
      "execution_count": 7,
      "metadata": {
        "id": "-4M2FrH1BrYc"
      },
      "outputs": [],
      "source": [
        "import sqlite3\n",
        "\n",
        "# Create a SQLite database or connect to an existing one\n",
        "conn = sqlite3.connect('ITS.db')\n",
        "cur = conn.cursor()"
      ]
    },
    {
      "cell_type": "markdown",
      "source": [
        "This part establishes a connection to the SQLite database named 'ITS.db' and creates a cursor object for executing SQL commands."
      ],
      "metadata": {
        "id": "_II5Cw3bhP2W"
      }
    },
    {
      "cell_type": "markdown",
      "source": [
        "### Table Creation"
      ],
      "metadata": {
        "id": "t4-_1gIxha4o"
      }
    },
    {
      "cell_type": "code",
      "source": [
        "# Create \"DEPARTEMENT\" table\n",
        "create_department_sql = '''\n",
        "CREATE TABLE IF NOT EXISTS \"DEPARTEMENT\"(\n",
        "  dnumber INTEGER PRIMARY KEY NOT NULL,\n",
        "  dname INTEGER,\n",
        "  mgrssn INTEGER NOT NULL\n",
        ");\n",
        "'''\n",
        "\n",
        "# Create \"DEPARTMENT_LOCATIONS\" table\n",
        "create_department_locations_sql = '''\n",
        "CREATE TABLE IF NOT EXISTS \"DEPARTMENT_LOCATIONS\"(\n",
        "  dnumber INTEGER NOT NULL,\n",
        "  \"LOCATIONS_dlocation\" INTEGER NOT NULL\n",
        ");\n",
        "'''\n",
        "\n",
        "# Create \"DEPENDENT\" table\n",
        "create_dependent_sql = '''\n",
        "CREATE TABLE IF NOT EXISTS \"DEPENDENT\"(\n",
        "  dependentname TEXT PRIMARY KEY NOT NULL,\n",
        "  essn INTEGER NOT NULL,\n",
        "  sex CHAR,\n",
        "  bdate TIMESTAMP,\n",
        "  relationship TEXT\n",
        ");\n",
        "'''\n",
        "\n",
        "# Create \"DriversAssignments\" table\n",
        "create_drivers_assignments_sql = '''\n",
        "CREATE TABLE IF NOT EXISTS \"DriversAssignments\"(\n",
        "  \"AssignmentID\" INTEGER PRIMARY KEY NOT NULL,\n",
        "  \"AssignmentData\" DATE,\n",
        "  \"EMPLOYEE_ssn\" INTEGER NOT NULL,\n",
        "  \"Vehicles_VehicleID\" INTEGER NOT NULL\n",
        ");\n",
        "'''\n",
        "\n",
        "# Create \"EMPLOYEE\" table\n",
        "create_employee_sql = '''\n",
        "CREATE TABLE IF NOT EXISTS \"EMPLOYEE\"(\n",
        "  ssn INTEGER PRIMARY KEY NOT NULL,\n",
        "  \"superssn (FK)\" INTEGER NOT NULL,\n",
        "  fname TEXT,\n",
        "  minit INTEGER,\n",
        "  lname TEXT,\n",
        "  address TEXT,\n",
        "  bdate TIMESTAMP,\n",
        "  salary REAL,\n",
        "  sex CHAR,\n",
        "  dno INTEGER NOT NULL\n",
        ");\n",
        "'''\n",
        "\n",
        "# Create \"LOCATIONS\" table\n",
        "create_locations_sql = '''\n",
        "CREATE TABLE IF NOT EXISTS \"LOCATIONS\"(\n",
        "  dlocation INTEGER PRIMARY KEY NOT NULL\n",
        ");\n",
        "'''\n",
        "\n",
        "# Create \"TransportationsAssignments\" table\n",
        "create_transportations_assignments_sql = '''\n",
        "CREATE TABLE IF NOT EXISTS \"TransportationsAssignments\"(\n",
        "  \"AssignmentID\" INTEGER PRIMARY KEY NOT NULL,\n",
        "  \"LocationDepart\" INTEGER NOT NULL,\n",
        "  \"LocationEnd\" INTEGER NOT NULL\n",
        ");\n",
        "'''\n",
        "\n",
        "# Create \"Vehicles\" table\n",
        "create_vehicles_sql = '''\n",
        "CREATE TABLE IF NOT EXISTS \"Vehicles\"(\n",
        "  \"VehicleID\" INTEGER PRIMARY KEY NOT NULL,\n",
        "  \"CurentLocation\" INTEGER,\n",
        "  \"LicensePlate\" TEXT NOT NULL\n",
        ");\n",
        "'''\n",
        "\n",
        "# Create \"VehiclesAssignments\" table\n",
        "create_vehicles_assignments_sql = '''\n",
        "CREATE TABLE IF NOT EXISTS \"VehiclesAssignments\"(\n",
        "  \"AssignmentID\" INTEGER PRIMARY KEY NOT NULL,\n",
        "  \"AssignmentData\" DATE,\n",
        "  \"ServicID\" INTEGER NOT NULL,\n",
        "  \"Vehicles_VehicleID\" INTEGER NOT NULL\n",
        ");\n",
        "'''"
      ],
      "metadata": {
        "id": "p-DS8s1ShOho"
      },
      "execution_count": 8,
      "outputs": []
    },
    {
      "cell_type": "markdown",
      "source": [
        "SQL statements for creating tables are defined, such as 'DEPARTMENT', 'DEPENDENT', 'EMPLOYEE', 'Vehicles', etc. The `CREATE TABLE IF NOT EXISTS` statement ensures that the tables are created only if they don't already exist."
      ],
      "metadata": {
        "id": "1freFWibhJFO"
      }
    },
    {
      "cell_type": "markdown",
      "source": [
        "### Execute Table Creation SQL Statements"
      ],
      "metadata": {
        "id": "ra40_95mhpv5"
      }
    },
    {
      "cell_type": "code",
      "source": [
        "# Execute the table creation SQL statements\n",
        "cur.execute(create_department_sql)\n",
        "cur.execute(create_department_locations_sql)\n",
        "cur.execute(create_dependent_sql)\n",
        "cur.execute(create_drivers_assignments_sql)\n",
        "cur.execute(create_employee_sql)\n",
        "cur.execute(create_locations_sql)\n",
        "cur.execute(create_transportations_assignments_sql)\n",
        "cur.execute(create_vehicles_sql)\n",
        "cur.execute(create_vehicles_assignments_sql)"
      ],
      "metadata": {
        "colab": {
          "base_uri": "https://localhost:8080/"
        },
        "id": "n8h3nlWghsOv",
        "outputId": "f96a84c2-bc3c-418b-af28-5f39af0edb05"
      },
      "execution_count": 9,
      "outputs": [
        {
          "output_type": "execute_result",
          "data": {
            "text/plain": [
              "<sqlite3.Cursor at 0x799da6af85c0>"
            ]
          },
          "metadata": {},
          "execution_count": 9
        }
      ]
    },
    {
      "cell_type": "markdown",
      "source": [
        "These lines execute the SQL statements to create the tables in the database."
      ],
      "metadata": {
        "id": "m-5nOOHNh-CA"
      }
    },
    {
      "cell_type": "markdown",
      "source": [
        "### Commit the Changes"
      ],
      "metadata": {
        "id": "A-cSfpmWipME"
      }
    },
    {
      "cell_type": "code",
      "source": [
        "conn.commit()"
      ],
      "metadata": {
        "id": "wjcPgULxirR3"
      },
      "execution_count": 10,
      "outputs": []
    },
    {
      "cell_type": "markdown",
      "source": [
        "This commits the changes made to the database, making them permanent."
      ],
      "metadata": {
        "id": "PEPBoH3Fittd"
      }
    },
    {
      "cell_type": "markdown",
      "source": [
        "### Data Insertion"
      ],
      "metadata": {
        "id": "G7ESVMBgiBVj"
      }
    },
    {
      "cell_type": "code",
      "source": [
        "# Sample data for \"DEPARTEMENT\" table\n",
        "insert_department_data = '''\n",
        "INSERT INTO \"DEPARTEMENT\" (dnumber, dname, mgrssn)\n",
        "VALUES (1, 101, 123456789),\n",
        "       (2, 102, 987654321);\n",
        "'''\n",
        "\n",
        "# Sample data for \"DEPARTMENT_LOCATIONS\" table\n",
        "insert_department_locations_data = '''\n",
        "INSERT INTO \"DEPARTMENT_LOCATIONS\" (dnumber, \"LOCATIONS_dlocation\")\n",
        "VALUES (1, 1),\n",
        "       (2, 2);\n",
        "'''\n",
        "\n",
        "# Sample data for \"DEPENDENT\" table\n",
        "insert_dependent_data = '''\n",
        "INSERT INTO \"DEPENDENT\" (dependentname, essn, sex, bdate, relationship)\n",
        "VALUES ('John Doe', 123456789, 'M', '1990-01-15', 'Child'),\n",
        "       ('Jane Note', 987654321, 'F', '1992-05-20', 'Spouse');\n",
        "'''\n",
        "\n",
        "# Sample data for \"DriversAssignments\" table\n",
        "insert_drivers_assignments_data = '''\n",
        "INSERT INTO \"DriversAssignments\" (\"AssignmentID\", \"AssignmentData\", \"EMPLOYEE_ssn\", \"Vehicles_VehicleID\")\n",
        "VALUES (1, '2023-10-01', 123456789, 1),\n",
        "       (2, '2023-10-02', 987654321, 2);\n",
        "'''\n",
        "\n",
        "# Sample data for \"EMPLOYEE\" table\n",
        "insert_employee_data = '''\n",
        "INSERT INTO \"EMPLOYEE\" (ssn, \"superssn (FK)\", fname, minit, lname, address, bdate, salary, sex, dno)\n",
        "VALUES (123456789, 987654321, 'Alice',  'M', 'Smith', '123 Main St', '1980-03-10', 50000.00, 'F', 1),\n",
        "       (987654321, 123456789, 'Bob',  'A', 'Johnson', '456 Oak St', '1975-12-05', 60000.00, 'M', 2);\n",
        "'''\n",
        "\n",
        "# Sample data for \"LOCATIONS\" table\n",
        "insert_locations_data = '''\n",
        "INSERT INTO \"LOCATIONS\" (dlocation)\n",
        "VALUES (1),\n",
        "       (2);\n",
        "'''\n",
        "\n",
        "# Sample data for \"TransportationsAssignments\" table\n",
        "insert_transportations_assignments_data = '''\n",
        "INSERT INTO \"TransportationsAssignments\" (\"AssignmentID\", \"LocationDepart\", \"LocationEnd\")\n",
        "VALUES (1, 1, 2),\n",
        "       (2, 2, 1);\n",
        "'''\n",
        "\n",
        "# Sample data for \"Vehicles\" table\n",
        "insert_vehicles_data = '''\n",
        "INSERT INTO \"Vehicles\" (\"VehicleID\", \"CurentLocation\", \"LicensePlate\")\n",
        "VALUES (1, 1, 'ABC123'),\n",
        "       (2, 2, 'XYZ789');\n",
        "'''\n",
        "\n",
        "# Sample data for \"VehiclesAssignments\" table\n",
        "insert_vehicles_assignments_data = '''\n",
        "INSERT INTO \"VehiclesAssignments\" (\"AssignmentID\", \"AssignmentData\", \"ServicID\", \"Vehicles_VehicleID\")\n",
        "VALUES (1, '2023-10-01', 1, 1),\n",
        "       (2, '2023-10-02', 2, 2);\n",
        "'''"
      ],
      "metadata": {
        "id": "GJQJtqNiiAmw"
      },
      "execution_count": 11,
      "outputs": []
    },
    {
      "cell_type": "markdown",
      "source": [
        "Sample data for each table is defined in SQL insert statements. For example, sample data for the `EPARTEMENT`table is defined.\n"
      ],
      "metadata": {
        "id": "lLIoZgbliUPo"
      }
    },
    {
      "cell_type": "markdown",
      "source": [
        "### Execute Data Insertion SQL Statements"
      ],
      "metadata": {
        "id": "AdeFaHU7ieev"
      }
    },
    {
      "cell_type": "code",
      "source": [
        "cur.execute(insert_department_data)\n",
        "cur.execute(insert_department_locations_data)\n",
        "cur.execute(insert_dependent_data)\n",
        "cur.execute(insert_drivers_assignments_data)\n",
        "cur.execute(insert_employee_data)\n",
        "cur.execute(insert_locations_data)\n",
        "cur.execute(insert_transportations_assignments_data)\n",
        "cur.execute(insert_vehicles_data)\n",
        "cur.execute(insert_vehicles_assignments_data)"
      ],
      "metadata": {
        "colab": {
          "base_uri": "https://localhost:8080/"
        },
        "id": "INcGcloIig-e",
        "outputId": "6ceee37b-a5e5-49c2-bf6e-ab696ffa28d7"
      },
      "execution_count": 12,
      "outputs": [
        {
          "output_type": "execute_result",
          "data": {
            "text/plain": [
              "<sqlite3.Cursor at 0x799da6af85c0>"
            ]
          },
          "metadata": {},
          "execution_count": 12
        }
      ]
    },
    {
      "cell_type": "markdown",
      "source": [
        "These lines execute the SQL statements to insert data into the tables."
      ],
      "metadata": {
        "id": "kQAOOSx7jcEH"
      }
    },
    {
      "cell_type": "markdown",
      "source": [
        "### Commit the Changes"
      ],
      "metadata": {
        "id": "lN8De9c5jd-G"
      }
    },
    {
      "cell_type": "code",
      "source": [
        "conn.commit()"
      ],
      "metadata": {
        "id": "jji5rPP8jc9b"
      },
      "execution_count": 13,
      "outputs": []
    },
    {
      "cell_type": "markdown",
      "source": [
        "This commits the changes made to the database, making them permanent."
      ],
      "metadata": {
        "id": "lXjx9VR4jm4S"
      }
    },
    {
      "cell_type": "markdown",
      "source": [
        "### Display Table Contents"
      ],
      "metadata": {
        "id": "uVdjBrKsjqyF"
      }
    },
    {
      "cell_type": "code",
      "source": [
        "# Function to print the contents of a table\n",
        "def print_table_contents(table_name):\n",
        "    print(f\"Contents of the '{table_name}' table:\")\n",
        "    cur.execute(f\"SELECT * FROM '{table_name}'\")\n",
        "    rows = cur.fetchall()\n",
        "    for row in rows:\n",
        "        print(row)\n",
        "    print(\"\")"
      ],
      "metadata": {
        "id": "9YGunD5Bi_Lh"
      },
      "execution_count": 14,
      "outputs": []
    },
    {
      "cell_type": "markdown",
      "source": [
        "A function `print_table_contents(table_name)` is defined to print the contents of each table. It executes a SELECT statement for each table and prints the retrieved rows."
      ],
      "metadata": {
        "id": "LKN6KlzQjwkY"
      }
    },
    {
      "cell_type": "markdown",
      "source": [
        "### Print the Contents of Each Table"
      ],
      "metadata": {
        "id": "WCdRiCgojzR1"
      }
    },
    {
      "cell_type": "code",
      "source": [
        "print_table_contents('DEPARTEMENT')\n",
        "print_table_contents('DEPARTMENT_LOCATIONS')\n",
        "print_table_contents('DriversAssignments')\n",
        "print_table_contents('EMPLOYEE')\n",
        "print_table_contents('LOCATIONS')\n",
        "print_table_contents('TransportationsAssignments')\n",
        "print_table_contents('Vehicles')\n",
        "print_table_contents('VehiclesAssignments')"
      ],
      "metadata": {
        "colab": {
          "base_uri": "https://localhost:8080/"
        },
        "id": "n-w8eWW_jx23",
        "outputId": "e6b40962-0acf-4171-ac67-eeca0283bb07"
      },
      "execution_count": 15,
      "outputs": [
        {
          "output_type": "stream",
          "name": "stdout",
          "text": [
            "Contents of the 'DEPARTEMENT' table:\n",
            "(1, 101, 123456789)\n",
            "(2, 102, 987654321)\n",
            "\n",
            "Contents of the 'DEPARTMENT_LOCATIONS' table:\n",
            "(1, 1)\n",
            "(2, 2)\n",
            "\n",
            "Contents of the 'DriversAssignments' table:\n",
            "(1, '2023-10-01', 123456789, 1)\n",
            "(2, '2023-10-02', 987654321, 2)\n",
            "\n",
            "Contents of the 'EMPLOYEE' table:\n",
            "(123456789, 987654321, 'Alice', 'M', 'Smith', '123 Main St', '1980-03-10', 50000.0, 'F', 1)\n",
            "(987654321, 123456789, 'Bob', 'A', 'Johnson', '456 Oak St', '1975-12-05', 60000.0, 'M', 2)\n",
            "\n",
            "Contents of the 'LOCATIONS' table:\n",
            "(1,)\n",
            "(2,)\n",
            "\n",
            "Contents of the 'TransportationsAssignments' table:\n",
            "(1, 1, 2)\n",
            "(2, 2, 1)\n",
            "\n",
            "Contents of the 'Vehicles' table:\n",
            "(1, 1, 'ABC123')\n",
            "(2, 2, 'XYZ789')\n",
            "\n",
            "Contents of the 'VehiclesAssignments' table:\n",
            "(1, '2023-10-01', 1, 1)\n",
            "(2, '2023-10-02', 2, 2)\n",
            "\n"
          ]
        }
      ]
    },
    {
      "cell_type": "markdown",
      "source": [
        "These lines print the contents of each table by calling the `print_table_contents` function."
      ],
      "metadata": {
        "id": "seL7a-tcizn9"
      }
    },
    {
      "cell_type": "markdown",
      "source": [
        "### Closing Database Connection"
      ],
      "metadata": {
        "id": "qeRjit7gi1x1"
      }
    },
    {
      "cell_type": "code",
      "source": [
        "cur.close()\n",
        "conn.close()"
      ],
      "metadata": {
        "id": "rqoqrStCjNlF"
      },
      "execution_count": 16,
      "outputs": []
    },
    {
      "cell_type": "markdown",
      "source": [
        "Finally, the script closes the cursor and the database connection."
      ],
      "metadata": {
        "id": "92k1dQe5j4sT"
      }
    }
  ]
}