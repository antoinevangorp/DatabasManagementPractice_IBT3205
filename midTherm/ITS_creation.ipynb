{
  "cells": [
    {
      "cell_type": "markdown",
      "metadata": {
        "colab_type": "text",
        "id": "view-in-github"
      },
      "source": [
        "<a href=\"https://colab.research.google.com/github/antoinevangorp/DatabasManagementPractice_IBT3205/blob/main/ITS_creation.ipynb\" target=\"_parent\"><img src=\"https://colab.research.google.com/assets/colab-badge.svg\" alt=\"Open In Colab\"/></a>"
      ]
    },
    {
      "cell_type": "markdown",
      "metadata": {
        "id": "swWUkTUzkD6e"
      },
      "source": [
        "# MidTherm"
      ]
    },
    {
      "cell_type": "markdown",
      "metadata": {
        "id": "cUUoH1BPj90G"
      },
      "source": [
        "This Python script is used to create and initialize a SQLite database named `ITS_Database`. It defines the structure of multiple tables related to an Information Technology Services (ITS) database schema and inserts sample data into those tables. Here's a detailed breakdown of what this script does:"
      ]
    },
    {
      "cell_type": "markdown",
      "metadata": {
        "id": "1Q0QUQ-KhSQC"
      },
      "source": [
        "### Database Connection"
      ]
    },
    {
      "cell_type": "code",
      "execution_count": null,
      "metadata": {
        "id": "-4M2FrH1BrYc"
      },
      "outputs": [
        {
          "ename": "",
          "evalue": "",
          "output_type": "error",
          "traceback": [
            "\u001b[1;31mRunning cells with '/bin/python3.11' requires the ipykernel package.\n",
            "\u001b[1;31mRun the following command to install 'ipykernel' into the Python environment. \n",
            "\u001b[1;31mCommand: '/bin/python3.11 -m pip install ipykernel -U --user --force-reinstall'"
          ]
        }
      ],
      "source": [
        "import sqlite3\n",
        "\n",
        "# Create a SQLite database or connect to an existing one\n",
        "conn = sqlite3.connect('ITS_Database.db')\n",
        "cur = conn.cursor()"
      ]
    },
    {
      "cell_type": "markdown",
      "metadata": {
        "id": "_II5Cw3bhP2W"
      },
      "source": [
        "This part establishes a connection to the SQLite database named `ITS_Database.db` and creates a cursor object for executing SQL commands."
      ]
    },
    {
      "cell_type": "markdown",
      "metadata": {
        "id": "t4-_1gIxha4o"
      },
      "source": [
        "### Table Creation"
      ]
    },
    {
      "cell_type": "code",
      "execution_count": null,
      "metadata": {
        "id": "p-DS8s1ShOho"
      },
      "outputs": [
        {
          "ename": "",
          "evalue": "",
          "output_type": "error",
          "traceback": [
            "\u001b[1;31mRunning cells with '/bin/python3.11' requires the ipykernel package.\n",
            "\u001b[1;31mRun the following command to install 'ipykernel' into the Python environment. \n",
            "\u001b[1;31mCommand: '/bin/python3.11 -m pip install ipykernel -U --user --force-reinstall'"
          ]
        }
      ],
      "source": [
        "# Create \"Vehicles\" table\n",
        "create_vehicles_sql = '''\n",
        "CREATE TABLE IF NOT EXISTS Vehicles (\n",
        "    VehicleID TEXT PRIMARY KEY,\n",
        "    RegistrationID VARCHAR(20) NOT NULL,\n",
        "    Manufacturer VARCHAR(50) NOT NULL,\n",
        "    Model VARCHAR(50) NOT NULL,\n",
        "    Color VARCHAR(20) NOT NULL,\n",
        "    CurrentOdometer INT NOT NULL,\n",
        "    PassengerCapacity INT NOT NULL\n",
        ");\n",
        "'''\n",
        "\n",
        "# Create \"MaintenanceRepairs\" table\n",
        "create_maintenance_repairs_sql = '''\n",
        "CREATE TABLE IF NOT EXISTS \"MaintenanceRepairs\" (\n",
        "    ActionID INT PRIMARY KEY,\n",
        "    VehicleID TEXT,\n",
        "    ActionType CHAR CHECK(ActionType IN ('M', 'R')) NOT NULL,\n",
        "    Odometer INT NOT NULL,\n",
        "    Cost DECIMAL(10, 2) NOT NULL,\n",
        "    Description TEXT,\n",
        "    ActionDate DATE NOT NULL\n",
        ");\n",
        "'''\n",
        "\n",
        "# Create \"Countries\" table\n",
        "create_countries_sql = '''\n",
        "CREATE TABLE IF NOT EXISTS Countries (\n",
        "    CountryCode CHAR(2) PRIMARY KEY,\n",
        "    CountryName VARCHAR(50) NOT NULL\n",
        ");\n",
        "'''\n",
        "\n",
        "# Create \"SpokenLanguages\" table\n",
        "create_spoken_languages_sql = '''\n",
        "CREATE TABLE IF NOT EXISTS SpokenLanguages (\n",
        "    LanguageID INT PRIMARY KEY,\n",
        "    CountryCode CHAR(2),\n",
        "    LanguageCode CHAR(2) NOT NULL,\n",
        "    FOREIGN KEY (CountryCode) REFERENCES Countries(CountryCode)\n",
        ");\n",
        "'''\n",
        "\n",
        "# Create \"GameOfficials\" table\n",
        "create_game_officials_sql = '''\n",
        "CREATE TABLE IF NOT EXISTS GameOfficials (\n",
        "    OfficialID INT PRIMARY KEY,\n",
        "    CountryCode CHAR(2) NOT NULL,\n",
        "    IncheonCityID CHAR(8) NOT NULL,\n",
        "    FirstName VARCHAR(50) NOT NULL,\n",
        "    LastName VARCHAR(50) NOT NULL,\n",
        "    Role VARCHAR(50) NOT NULL,\n",
        "    PreferredLanguage CHAR(2) NOT NULL,\n",
        "    FOREIGN KEY (CountryCode) REFERENCES Countries(CountryCode)\n",
        ");\n",
        "'''\n",
        "\n",
        "# Create \"Drivers\" table\n",
        "create_drivers_sql = '''\n",
        "CREATE TABLE IF NOT EXISTS Drivers (\n",
        "    DriverID INT PRIMARY KEY,\n",
        "    Name VARCHAR(100) NOT NULL,\n",
        "    LicenseNumber CHAR(18) NOT NULL,\n",
        "    ClearanceLevel INT CHECK (ClearanceLevel BETWEEN 1 AND 4),\n",
        "    FATLLevel INT CHECK (FATLLevel BETWEEN 1 AND 10),\n",
        "    FATLQualificationDate DATE,\n",
        "    STLVTLevel INT CHECK (STLVTLevel BETWEEN 1 AND 5),\n",
        "    STLVTQualificationDate DATE,\n",
        "    CertifyingAuthority VARCHAR(100)\n",
        ");\n",
        "'''\n",
        "\n",
        "# Create \"DriverBookings\" table\n",
        "create_driver_bookings_sql = '''\n",
        "CREATE TABLE IF NOT EXISTS DriverBookings (\n",
        "    BookingID INT PRIMARY KEY,\n",
        "    OfficialID INT,\n",
        "    DriverID INT,\n",
        "    VehicleID TEXT,\n",
        "    PickupLocation VARCHAR(100),\n",
        "    DropOffLocation VARCHAR(100),\n",
        "    LocationType TEXT CHECK(LocationType IN ('Hotel', 'Airport', 'Aquatic Center')),\n",
        "    BookingReference VARCHAR(20),\n",
        "    StartDateTime DATETIME NOT NULL,\n",
        "    EndDateTime DATETIME NOT NULL,\n",
        "    StartOdometer INT NOT NULL,\n",
        "    EndOdometer INT NOT NULL,\n",
        "    FOREIGN KEY (OfficialID) REFERENCES GameOfficials(OfficialID),\n",
        "    FOREIGN KEY (DriverID) REFERENCES Drivers(DriverID),\n",
        "    FOREIGN KEY (VehicleID) REFERENCES Vehicles(VehicleID)\n",
        ");\n",
        "'''\n",
        "\n",
        "# Create \"VehicleAvailability\" table\n",
        "create_vehicle_availability_sql = '''\n",
        "CREATE TABLE IF NOT EXISTS VehicleAvailability (\n",
        "    VehicleID TEXT PRIMARY KEY,\n",
        "    IsAvailable BOOLEAN NOT NULL\n",
        ");\n",
        "'''"
      ]
    },
    {
      "cell_type": "markdown",
      "metadata": {
        "id": "1freFWibhJFO"
      },
      "source": [
        "SQL statements for creating tables are defined, such as 'Vehicles', 'MaintenanceRepairs', 'Countries', 'GameOfficials', 'Drivers', etc. The `CREATE TABLE IF NOT EXISTS` statement ensures that the tables are created only if they don't already exist."
      ]
    },
    {
      "cell_type": "markdown",
      "metadata": {
        "id": "ra40_95mhpv5"
      },
      "source": [
        "### Execute Table Creation SQL Statements"
      ]
    },
    {
      "cell_type": "code",
      "execution_count": null,
      "metadata": {
        "colab": {
          "base_uri": "https://localhost:8080/"
        },
        "id": "n8h3nlWghsOv",
        "outputId": "f96a84c2-bc3c-418b-af28-5f39af0edb05"
      },
      "outputs": [
        {
          "ename": "",
          "evalue": "",
          "output_type": "error",
          "traceback": [
            "\u001b[1;31mRunning cells with '/bin/python3.11' requires the ipykernel package.\n",
            "\u001b[1;31mRun the following command to install 'ipykernel' into the Python environment. \n",
            "\u001b[1;31mCommand: '/bin/python3.11 -m pip install ipykernel -U --user --force-reinstall'"
          ]
        }
      ],
      "source": [
        "# Execute the table creation SQL statements\n",
        "cur.execute(create_vehicles_sql)\n",
        "cur.execute(create_maintenance_repairs_sql)\n",
        "cur.execute(create_countries_sql)\n",
        "cur.execute(create_spoken_languages_sql)\n",
        "cur.execute(create_game_officials_sql)\n",
        "cur.execute(create_drivers_sql)\n",
        "cur.execute(create_driver_bookings_sql)\n",
        "cur.execute(create_vehicle_availability_sql)"
      ]
    },
    {
      "cell_type": "markdown",
      "metadata": {
        "id": "m-5nOOHNh-CA"
      },
      "source": [
        "These lines execute the SQL statements to create the tables in the database."
      ]
    },
    {
      "cell_type": "markdown",
      "metadata": {
        "id": "A-cSfpmWipME"
      },
      "source": [
        "### Commit the Changes"
      ]
    },
    {
      "cell_type": "code",
      "execution_count": null,
      "metadata": {
        "id": "wjcPgULxirR3"
      },
      "outputs": [
        {
          "ename": "",
          "evalue": "",
          "output_type": "error",
          "traceback": [
            "\u001b[1;31mRunning cells with '/bin/python3.11' requires the ipykernel package.\n",
            "\u001b[1;31mRun the following command to install 'ipykernel' into the Python environment. \n",
            "\u001b[1;31mCommand: '/bin/python3.11 -m pip install ipykernel -U --user --force-reinstall'"
          ]
        }
      ],
      "source": [
        "conn.commit()"
      ]
    },
    {
      "cell_type": "markdown",
      "metadata": {
        "id": "PEPBoH3Fittd"
      },
      "source": [
        "This commits the changes made to the database, making them permanent."
      ]
    },
    {
      "cell_type": "markdown",
      "metadata": {
        "id": "G7ESVMBgiBVj"
      },
      "source": [
        "### Data Insertion"
      ]
    },
    {
      "cell_type": "code",
      "execution_count": null,
      "metadata": {
        "id": "GJQJtqNiiAmw"
      },
      "outputs": [
        {
          "ename": "",
          "evalue": "",
          "output_type": "error",
          "traceback": [
            "\u001b[1;31mRunning cells with '/bin/python3.11' requires the ipykernel package.\n",
            "\u001b[1;31mRun the following command to install 'ipykernel' into the Python environment. \n",
            "\u001b[1;31mCommand: '/bin/python3.11 -m pip install ipykernel -U --user --force-reinstall'"
          ]
        }
      ],
      "source": [
        "# Sample data for \"Vehicles\" table\n",
        "sample_vehicle_data = '''\n",
        "INSERT INTO Vehicles (VehicleID, RegistrationID, Manufacturer, Model, Color, CurrentOdometer, PassengerCapacity)\n",
        "VALUES ('V1000', '2001 ABC', 'Volvo', 'XC90 SE', 'Silver', 4350, 4),\n",
        "       ('V1001', '2006 AFD', 'Kia', 'K7', 'Black', 2195, 4),\n",
        "       ('V1002', '2021 AHR', 'Tesla', '2020 F', 'White', 509, 4),\n",
        "       ('V1003', '2020 DXF', 'Ford', 'Transit', 'Silver', 974, 2);\n",
        "'''\n",
        "\n",
        "# Sample data for \"Countries\" table\n",
        "sample_countries_data = '''\n",
        "INSERT INTO Countries (CountryCode, CountryName)\n",
        "VALUES ('KR', 'South Korea'),\n",
        "       ('US', 'United States'),\n",
        "       ('CN', 'China');\n",
        "'''\n",
        "\n",
        "# Sample data for \"SpokenLanguages\" table\n",
        "sample_languages_data = '''\n",
        "INSERT INTO SpokenLanguages (LanguageID, CountryCode, LanguageCode)\n",
        "VALUES (1, 'KR', 'KO'),\n",
        "       (2, 'US', 'EN'),\n",
        "       (3, 'CN', 'ZH');\n",
        "'''\n",
        "\n",
        "# Sample data for \"GameOfficials\" table\n",
        "sample_officials_data = '''\n",
        "INSERT INTO GameOfficials (OfficialID, CountryCode, IncheonCityID, FirstName, LastName, Role, PreferredLanguage)\n",
        "VALUES (1, 'KR', 'INC12345', 'Ji-Sung', 'Park', 'Referee', 'KO'),\n",
        "       (2, 'US', 'INC67890', 'John', 'Smith', 'Referee', 'EN');\n",
        "'''\n",
        "\n",
        "# Sample data for \"Drivers\" table\n",
        "sample_drivers_data = '''\n",
        "INSERT INTO Drivers (DriverID, Name, LicenseNumber, ClearanceLevel, FATLLevel, FATLQualificationDate, STLVTLevel, STLVTQualificationDate, CertifyingAuthority)\n",
        "VALUES (1, 'Hye-Jin Kim', '123456789012345678', 3, 7, '2021-05-15', 4, '2022-02-20', 'Korean DMV'),\n",
        "       (2, 'Robert Johnson', '987654321098765432', 2, 5, '2020-08-10', 3, '2021-12-05', 'US DMV');\n",
        "'''\n",
        "\n",
        "# Sample data for \"DriverBookings\" table\n",
        "sample_booking_data = '''\n",
        "INSERT INTO DriverBookings (BookingID, OfficialID, DriverID, VehicleID, PickupLocation, DropOffLocation, LocationType, BookingReference, StartDateTime, EndDateTime, StartOdometer, EndOdometer)\n",
        "VALUES (1, 1, 1, 'V1000', 'Incheon Hotel', 'Incheon Airport', 'Hotel', 'REF12345', '2023-10-01 08:00', '2023-10-01 12:00', 4350, 4370),\n",
        "       (2, 2, 2, 'V1001', 'Incheon Airport', 'Incheon Aquatic Center', 'Airport', 'REF67890', '2023-10-02 09:30', '2023-10-02 13:30', 2195, 2210);\n",
        "'''\n",
        "\n",
        "# Sample data for \"VehicleAvailability\" table\n",
        "sample_availability_data = '''\n",
        "INSERT INTO VehicleAvailability (VehicleID, IsAvailable)\n",
        "VALUES ('V1000', 1),\n",
        "       ('V1001', 0),\n",
        "       ('V1002', 1),\n",
        "       ('V1003', 1);\n",
        "'''\n",
        "\n",
        "# Sample data for \"MaintenanceRepairs\" table\n",
        "sample_maintenance_repairs_data = '''\n",
        "INSERT INTO MaintenanceRepairs (ActionID, VehicleID, ActionType, Odometer, Cost, Description, ActionDate)\n",
        "VALUES (1, 'V1000', 'M', 4300, 300.00, 'Routine maintenance', '2023-09-15'),\n",
        "       (2, 'V1001', 'R', 2150, 750.50, 'Engine repair', '2023-08-20');\n",
        "'''"
      ]
    },
    {
      "cell_type": "markdown",
      "metadata": {
        "id": "lLIoZgbliUPo"
      },
      "source": [
        "Sample data for each table is defined in SQL insert statements. For example, sample data for the `Vehicles` table is defined.\n"
      ]
    },
    {
      "cell_type": "markdown",
      "metadata": {
        "id": "AdeFaHU7ieev"
      },
      "source": [
        "### Execute Data Insertion SQL Statements"
      ]
    },
    {
      "cell_type": "code",
      "execution_count": null,
      "metadata": {
        "colab": {
          "base_uri": "https://localhost:8080/"
        },
        "id": "INcGcloIig-e",
        "outputId": "6ceee37b-a5e5-49c2-bf6e-ab696ffa28d7"
      },
      "outputs": [
        {
          "ename": "",
          "evalue": "",
          "output_type": "error",
          "traceback": [
            "\u001b[1;31mRunning cells with '/bin/python3.11' requires the ipykernel package.\n",
            "\u001b[1;31mRun the following command to install 'ipykernel' into the Python environment. \n",
            "\u001b[1;31mCommand: '/bin/python3.11 -m pip install ipykernel -U --user --force-reinstall'"
          ]
        }
      ],
      "source": [
        "cur.execute(sample_vehicle_data)\n",
        "cur.execute(sample_countries_data)\n",
        "cur.execute(sample_languages_data)\n",
        "cur.execute(sample_officials_data)\n",
        "cur.execute(sample_drivers_data)\n",
        "cur.execute(sample_booking_data)\n",
        "cur.execute(sample_availability_data)\n",
        "cur.execute(sample_maintenance_repairs_data)"
      ]
    },
    {
      "cell_type": "markdown",
      "metadata": {
        "id": "kQAOOSx7jcEH"
      },
      "source": [
        "These lines execute the SQL statements to insert data into the tables."
      ]
    },
    {
      "cell_type": "markdown",
      "metadata": {
        "id": "lN8De9c5jd-G"
      },
      "source": [
        "### Commit the Changes"
      ]
    },
    {
      "cell_type": "code",
      "execution_count": null,
      "metadata": {
        "id": "jji5rPP8jc9b"
      },
      "outputs": [
        {
          "ename": "",
          "evalue": "",
          "output_type": "error",
          "traceback": [
            "\u001b[1;31mRunning cells with '/bin/python3.11' requires the ipykernel package.\n",
            "\u001b[1;31mRun the following command to install 'ipykernel' into the Python environment. \n",
            "\u001b[1;31mCommand: '/bin/python3.11 -m pip install ipykernel -U --user --force-reinstall'"
          ]
        }
      ],
      "source": [
        "conn.commit()"
      ]
    },
    {
      "cell_type": "markdown",
      "metadata": {
        "id": "lXjx9VR4jm4S"
      },
      "source": [
        "This commits the changes made to the database, making them permanent."
      ]
    },
    {
      "cell_type": "markdown",
      "metadata": {
        "id": "uVdjBrKsjqyF"
      },
      "source": [
        "### Display Table Contents"
      ]
    },
    {
      "cell_type": "code",
      "execution_count": null,
      "metadata": {
        "id": "9YGunD5Bi_Lh"
      },
      "outputs": [
        {
          "ename": "",
          "evalue": "",
          "output_type": "error",
          "traceback": [
            "\u001b[1;31mRunning cells with '/bin/python3.11' requires the ipykernel package.\n",
            "\u001b[1;31mRun the following command to install 'ipykernel' into the Python environment. \n",
            "\u001b[1;31mCommand: '/bin/python3.11 -m pip install ipykernel -U --user --force-reinstall'"
          ]
        }
      ],
      "source": [
        "# Function to print the contents of a table\n",
        "def print_table_contents(table_name):\n",
        "    print(f\"Contents of the '{table_name}' table:\")\n",
        "    cur.execute(f\"SELECT * FROM {table_name}\")\n",
        "    rows = cur.fetchall()\n",
        "    for row in rows:\n",
        "        print(row)\n",
        "    print(\"\")"
      ]
    },
    {
      "cell_type": "markdown",
      "metadata": {
        "id": "LKN6KlzQjwkY"
      },
      "source": [
        "A function `print_table_contents(table_name)` is defined to print the contents of each table. It executes a SELECT statement for each table and prints the retrieved rows."
      ]
    },
    {
      "cell_type": "markdown",
      "metadata": {
        "id": "WCdRiCgojzR1"
      },
      "source": [
        "### Print the Contents of Each Table"
      ]
    },
    {
      "cell_type": "code",
      "execution_count": null,
      "metadata": {
        "colab": {
          "base_uri": "https://localhost:8080/"
        },
        "id": "n-w8eWW_jx23",
        "outputId": "e6b40962-0acf-4171-ac67-eeca0283bb07"
      },
      "outputs": [
        {
          "ename": "",
          "evalue": "",
          "output_type": "error",
          "traceback": [
            "\u001b[1;31mRunning cells with '/bin/python3.11' requires the ipykernel package.\n",
            "\u001b[1;31mRun the following command to install 'ipykernel' into the Python environment. \n",
            "\u001b[1;31mCommand: '/bin/python3.11 -m pip install ipykernel -U --user --force-reinstall'"
          ]
        }
      ],
      "source": [
        "print_table_contents('Vehicles')\n",
        "print_table_contents('MaintenanceRepairs')\n",
        "print_table_contents('Countries')\n",
        "print_table_contents('SpokenLanguages')\n",
        "print_table_contents('GameOfficials')\n",
        "print_table_contents('Drivers')\n",
        "print_table_contents('DriverBookings')\n",
        "print_table_contents('VehicleAvailability')"
      ]
    },
    {
      "cell_type": "markdown",
      "metadata": {
        "id": "seL7a-tcizn9"
      },
      "source": [
        "These lines print the contents of each table by calling the `print_table_contents` function."
      ]
    },
    {
      "cell_type": "markdown",
      "metadata": {
        "id": "qeRjit7gi1x1"
      },
      "source": [
        "### Closing Database Connection"
      ]
    },
    {
      "cell_type": "code",
      "execution_count": null,
      "metadata": {
        "id": "rqoqrStCjNlF"
      },
      "outputs": [
        {
          "ename": "",
          "evalue": "",
          "output_type": "error",
          "traceback": [
            "\u001b[1;31mRunning cells with '/bin/python3.11' requires the ipykernel package.\n",
            "\u001b[1;31mRun the following command to install 'ipykernel' into the Python environment. \n",
            "\u001b[1;31mCommand: '/bin/python3.11 -m pip install ipykernel -U --user --force-reinstall'"
          ]
        }
      ],
      "source": [
        "cur.close()\n",
        "conn.close()"
      ]
    },
    {
      "cell_type": "markdown",
      "metadata": {
        "id": "92k1dQe5j4sT"
      },
      "source": [
        "Finally, the script closes the cursor and the database connection."
      ]
    }
  ],
  "metadata": {
    "colab": {
      "authorship_tag": "ABX9TyMbHh0PUCPe8qSsY7d6yTTF",
      "include_colab_link": true,
      "provenance": []
    },
    "kernelspec": {
      "display_name": "Python 3",
      "name": "python3"
    },
    "language_info": {
      "name": "python",
      "version": "3.11.3"
    }
  },
  "nbformat": 4,
  "nbformat_minor": 0
}
